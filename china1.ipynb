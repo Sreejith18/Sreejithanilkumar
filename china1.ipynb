{
 "cells": [
  {
   "cell_type": "code",
   "execution_count": 2,
   "id": "21a9556c",
   "metadata": {},
   "outputs": [],
   "source": [
    "import pandas as pd\n",
    "import numpy as np\n",
    "import matplotlib.pyplot as plt\n",
    "%matplotlib inline"
   ]
  },
  {
   "cell_type": "code",
   "execution_count": 6,
   "id": "36024754",
   "metadata": {},
   "outputs": [
    {
     "data": {
      "text/html": [
       "<div>\n",
       "<style scoped>\n",
       "    .dataframe tbody tr th:only-of-type {\n",
       "        vertical-align: middle;\n",
       "    }\n",
       "\n",
       "    .dataframe tbody tr th {\n",
       "        vertical-align: top;\n",
       "    }\n",
       "\n",
       "    .dataframe thead th {\n",
       "        text-align: right;\n",
       "    }\n",
       "</style>\n",
       "<table border=\"1\" class=\"dataframe\">\n",
       "  <thead>\n",
       "    <tr style=\"text-align: right;\">\n",
       "      <th></th>\n",
       "      <th>Unnamed: 0</th>\n",
       "      <th>At the end of the total population (ten thousand people)</th>\n",
       "      <th>The male population (ten thousand people)</th>\n",
       "      <th>Female population (ten thousand people)</th>\n",
       "      <th>Urban population (ten thousand people)</th>\n",
       "      <th>Rural population (ten thousand people)</th>\n",
       "    </tr>\n",
       "  </thead>\n",
       "  <tbody>\n",
       "    <tr>\n",
       "      <th>0</th>\n",
       "      <td>2021</td>\n",
       "      <td>141260</td>\n",
       "      <td>72311</td>\n",
       "      <td>68949</td>\n",
       "      <td>91425</td>\n",
       "      <td>49835</td>\n",
       "    </tr>\n",
       "    <tr>\n",
       "      <th>1</th>\n",
       "      <td>2020</td>\n",
       "      <td>141212</td>\n",
       "      <td>72357</td>\n",
       "      <td>68855</td>\n",
       "      <td>90220</td>\n",
       "      <td>50992</td>\n",
       "    </tr>\n",
       "    <tr>\n",
       "      <th>2</th>\n",
       "      <td>2019</td>\n",
       "      <td>141008</td>\n",
       "      <td>72039</td>\n",
       "      <td>68969</td>\n",
       "      <td>88426</td>\n",
       "      <td>52582</td>\n",
       "    </tr>\n",
       "    <tr>\n",
       "      <th>3</th>\n",
       "      <td>2018</td>\n",
       "      <td>140541</td>\n",
       "      <td>71864</td>\n",
       "      <td>68677</td>\n",
       "      <td>86433</td>\n",
       "      <td>54108</td>\n",
       "    </tr>\n",
       "    <tr>\n",
       "      <th>4</th>\n",
       "      <td>2017</td>\n",
       "      <td>140011</td>\n",
       "      <td>71650</td>\n",
       "      <td>68361</td>\n",
       "      <td>84343</td>\n",
       "      <td>55668</td>\n",
       "    </tr>\n",
       "    <tr>\n",
       "      <th>...</th>\n",
       "      <td>...</td>\n",
       "      <td>...</td>\n",
       "      <td>...</td>\n",
       "      <td>...</td>\n",
       "      <td>...</td>\n",
       "      <td>...</td>\n",
       "    </tr>\n",
       "    <tr>\n",
       "      <th>68</th>\n",
       "      <td>1953</td>\n",
       "      <td>58796</td>\n",
       "      <td>30468</td>\n",
       "      <td>28328</td>\n",
       "      <td>7826</td>\n",
       "      <td>50970</td>\n",
       "    </tr>\n",
       "    <tr>\n",
       "      <th>69</th>\n",
       "      <td>1952</td>\n",
       "      <td>57482</td>\n",
       "      <td>29833</td>\n",
       "      <td>27649</td>\n",
       "      <td>7163</td>\n",
       "      <td>50319</td>\n",
       "    </tr>\n",
       "    <tr>\n",
       "      <th>70</th>\n",
       "      <td>1951</td>\n",
       "      <td>56300</td>\n",
       "      <td>29231</td>\n",
       "      <td>27069</td>\n",
       "      <td>6632</td>\n",
       "      <td>49668</td>\n",
       "    </tr>\n",
       "    <tr>\n",
       "      <th>71</th>\n",
       "      <td>1950</td>\n",
       "      <td>55196</td>\n",
       "      <td>28669</td>\n",
       "      <td>26527</td>\n",
       "      <td>6169</td>\n",
       "      <td>49027</td>\n",
       "    </tr>\n",
       "    <tr>\n",
       "      <th>72</th>\n",
       "      <td>1949</td>\n",
       "      <td>54167</td>\n",
       "      <td>28145</td>\n",
       "      <td>26022</td>\n",
       "      <td>5765</td>\n",
       "      <td>48402</td>\n",
       "    </tr>\n",
       "  </tbody>\n",
       "</table>\n",
       "<p>73 rows × 6 columns</p>\n",
       "</div>"
      ],
      "text/plain": [
       "    Unnamed: 0  At the end of the total population (ten thousand people)  \\\n",
       "0         2021                                             141260          \n",
       "1         2020                                             141212          \n",
       "2         2019                                             141008          \n",
       "3         2018                                             140541          \n",
       "4         2017                                             140011          \n",
       "..         ...                                                ...          \n",
       "68        1953                                              58796          \n",
       "69        1952                                              57482          \n",
       "70        1951                                              56300          \n",
       "71        1950                                              55196          \n",
       "72        1949                                              54167          \n",
       "\n",
       "    The male population (ten thousand people)  \\\n",
       "0                                       72311   \n",
       "1                                       72357   \n",
       "2                                       72039   \n",
       "3                                       71864   \n",
       "4                                       71650   \n",
       "..                                        ...   \n",
       "68                                      30468   \n",
       "69                                      29833   \n",
       "70                                      29231   \n",
       "71                                      28669   \n",
       "72                                      28145   \n",
       "\n",
       "    Female population (ten thousand people)  \\\n",
       "0                                     68949   \n",
       "1                                     68855   \n",
       "2                                     68969   \n",
       "3                                     68677   \n",
       "4                                     68361   \n",
       "..                                      ...   \n",
       "68                                    28328   \n",
       "69                                    27649   \n",
       "70                                    27069   \n",
       "71                                    26527   \n",
       "72                                    26022   \n",
       "\n",
       "    Urban population (ten thousand people)  \\\n",
       "0                                    91425   \n",
       "1                                    90220   \n",
       "2                                    88426   \n",
       "3                                    86433   \n",
       "4                                    84343   \n",
       "..                                     ...   \n",
       "68                                    7826   \n",
       "69                                    7163   \n",
       "70                                    6632   \n",
       "71                                    6169   \n",
       "72                                    5765   \n",
       "\n",
       "    Rural population (ten thousand people)  \n",
       "0                                    49835  \n",
       "1                                    50992  \n",
       "2                                    52582  \n",
       "3                                    54108  \n",
       "4                                    55668  \n",
       "..                                     ...  \n",
       "68                                   50970  \n",
       "69                                   50319  \n",
       "70                                   49668  \n",
       "71                                   49027  \n",
       "72                                   48402  \n",
       "\n",
       "[73 rows x 6 columns]"
      ]
     },
     "execution_count": 6,
     "metadata": {},
     "output_type": "execute_result"
    }
   ],
   "source": [
    "data = pd.read_csv('Chinas Population En.csv')\n",
    "data"
   ]
  },
  {
   "cell_type": "code",
   "execution_count": 64,
   "id": "56273ac7",
   "metadata": {},
   "outputs": [
    {
     "data": {
      "text/plain": [
       "50049.643835616436"
      ]
     },
     "execution_count": 64,
     "metadata": {},
     "output_type": "execute_result"
    }
   ],
   "source": [
    "#to find the mean of the total female population through these years\n",
    "mean = data['Female population (ten thousand people)'].mean()\n",
    "mean"
   ]
  },
  {
   "cell_type": "code",
   "execution_count": 65,
   "id": "00d37738",
   "metadata": {},
   "outputs": [
    {
     "data": {
      "text/plain": [
       "52929.72602739726"
      ]
     },
     "execution_count": 65,
     "metadata": {},
     "output_type": "execute_result"
    }
   ],
   "source": [
    "#to find the mean of the total male population through these years\n",
    "mean1 = data['The male population (ten thousand people)'].mean()\n",
    "mean1"
   ]
  },
  {
   "cell_type": "code",
   "execution_count": 66,
   "id": "21785362",
   "metadata": {},
   "outputs": [
    {
     "data": {
      "image/png": "[encoded data removed]",
      "text/plain": [
       "<Figure size 432x288 with 1 Axes>"
      ]
     },
     "metadata": {},
     "output_type": "display_data"
    }
   ],
   "source": [
    "#to plot a pie chart for the mean of male and female population\n",
    "plot = [mean,mean1]\n",
    "names = ['Total Female Population','Total Male Population']\n",
    "plt.figure()\n",
    "plt.pie(plot, labels=names)\n",
    "plt.show()"
   ]
  },
  {
   "cell_type": "code",
   "execution_count": 67,
   "id": "97feba32",
   "metadata": {},
   "outputs": [
    {
     "data": {
      "text/plain": [
       "2499898"
      ]
     },
     "execution_count": 67,
     "metadata": {},
     "output_type": "execute_result"
    }
   ],
   "source": [
    "data['Urban population (ten thousand people)'].sum()\n"
   ]
  },
  {
   "cell_type": "code",
   "execution_count": 68,
   "id": "50302863",
   "metadata": {},
   "outputs": [
    {
     "data": {
      "text/plain": [
       "5017596"
      ]
     },
     "execution_count": 68,
     "metadata": {},
     "output_type": "execute_result"
    }
   ],
   "source": [
    "data['Rural population (ten thousand people)'].sum()"
   ]
  },
  {
   "cell_type": "code",
   "execution_count": 69,
   "id": "e96cbb6c",
   "metadata": {},
   "outputs": [
    {
     "data": {
      "image/png": "[encoded data removed]",
      "text/plain": [
       "<Figure size 432x288 with 1 Axes>"
      ]
     },
     "metadata": {
      "needs_background": "light"
     },
     "output_type": "display_data"
    }
   ],
   "source": [
    "#to plot a graph for total population with respect to the year\n",
    "plt.plot(data['At the end of the total population (ten thousand people)'],data['Unnamed: 0'], 'r*')\n",
    "plt.xlabel('At the end of the total population (ten thousand people)')\n",
    "plt.ylabel('Year')\n",
    "plt.title('At the end of the total population (ten thousand people) Vs per year')\n",
    "plt.show()"
   ]
  },
  {
   "cell_type": "code",
   "execution_count": 70,
   "id": "86639ede",
   "metadata": {},
   "outputs": [
    {
     "data": {
      "image/png": "[encoded data removed]",
      "text/plain": [
       "<Figure size 432x288 with 1 Axes>"
      ]
     },
     "metadata": {
      "needs_background": "light"
     },
     "output_type": "display_data"
    }
   ],
   "source": [
    "#to plot a graph for urban population with respect to the years\n",
    "x = data['Unnamed: 0']\n",
    "y = data['Urban population (ten thousand people)']\n",
    "plt.plot(x,y)\n",
    "plt.xlabel(\"Year\")\n",
    "plt.ylabel(\"Population\")\n",
    "plt.show()\n"
   ]
  },
  {
   "cell_type": "code",
   "execution_count": 71,
   "id": "bc7700fe",
   "metadata": {},
   "outputs": [
    {
     "data": {
      "image/png": "[encoded data removed]",
      "text/plain": [
       "<Figure size 432x288 with 1 Axes>"
      ]
     },
     "metadata": {
      "needs_background": "light"
     },
     "output_type": "display_data"
    }
   ],
   "source": [
    "#to plot a graph for rural population with respect to years\n",
    "x = data['Unnamed: 0']\n",
    "y = data['Rural population (ten thousand people)']\n",
    "plt.plot(x,y)\n",
    "plt.xlabel(\"Year\")\n",
    "plt.ylabel(\"Population\")\n",
    "plt.show()"
   ]
  },
  {
   "cell_type": "code",
   "execution_count": 14,
   "id": "49fcd9ad",
   "metadata": {},
   "outputs": [],
   "source": [
    "#to graph a boxplot for the rural and urban population\n",
    "names = ['Urban population','Rural population']\n",
    "ret = [data['Urban population (ten thousand people)'],data['Rural population (ten thousand people)']]\n"
   ]
  },
  {
   "cell_type": "code",
   "execution_count": 15,
   "id": "6ce659e4",
   "metadata": {},
   "outputs": [
    {
     "data": {
      "image/png": "[encoded data removed]",
      "text/plain": [
       "<Figure size 432x288 with 1 Axes>"
      ]
     },
     "metadata": {
      "needs_background": "light"
     },
     "output_type": "display_data"
    }
   ],
   "source": [
    "plt.figure()\n",
    "plt.boxplot(ret, labels=names)\n",
    "plt.show()"
   ]
  },
  {
   "cell_type": "code",
   "execution_count": null,
   "id": "096fbbf5",
   "metadata": {},
   "outputs": [],
   "source": []
  },
  {
   "cell_type": "code",
   "execution_count": null,
   "id": "55e1488e",
   "metadata": {},
   "outputs": [],
   "source": []
  }
 ],
 "metadata": {
  "kernelspec": {
   "display_name": "Python 3 (ipykernel)",
   "language": "python",
   "name": "python3"
  },
  "language_info": {
   "codemirror_mode": {
    "name": "ipython",
    "version": 3
   },
   "file_extension": ".py",
   "mimetype": "text/x-python",
   "name": "python",
   "nbconvert_exporter": "python",
   "pygments_lexer": "ipython3",
   "version": "3.9.7"
  }
 },
 "nbformat": 4,
 "nbformat_minor": 5
}
